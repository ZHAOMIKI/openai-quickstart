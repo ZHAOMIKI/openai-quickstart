{
 "cells": [
  {
   "cell_type": "markdown",
   "id": "c3e2458f-d038-4845-93a0-d4ad830f9f90",
   "metadata": {},
   "source": [
    "# LangChain 核心模块学习：Chains\n",
    "\n",
    "对于简单的大模型应用，单独使用语言模型（LLMs）是可以的。\n",
    "\n",
    "**但更复杂的大模型应用需要将 `LLMs` 和 `Chat Models` 链接在一起 - 要么彼此链接，要么与其他组件链接。**\n",
    "\n",
    "LangChain 为这种“链式”应用程序提供了 `Chain` 接口。\n",
    "\n",
    "LangChain 以通用方式定义了 `Chain`，它是对组件进行调用序列的集合，其中可以包含其他链。"
   ]
  },
  {
   "cell_type": "code",
   "execution_count": 1,
   "id": "24efe291-8745-4e78-bdb4-648e60d7bac8",
   "metadata": {},
   "outputs": [
    {
     "name": "stdout",
     "output_type": "stream",
     "text": [
      "Looking in indexes: https://pypi.tuna.tsinghua.edu.cn/simple\n",
      "Collecting langchain\n",
      "  Downloading https://pypi.tuna.tsinghua.edu.cn/packages/5d/a7/23dd2a34aded62c6fe31918f306517a36b182e02780c8ea93e2af5ab4cd5/langchain-0.2.8-py3-none-any.whl (987 kB)\n",
      "     ---------------------------------------- 0.0/987.6 kB ? eta -:--:--\n",
      "     - ------------------------------------- 30.7/987.6 kB 1.3 MB/s eta 0:00:01\n",
      "     - ----------------------------------- 41.0/987.6 kB 487.6 kB/s eta 0:00:02\n",
      "     --------------- ---------------------- 399.4/987.6 kB 3.5 MB/s eta 0:00:01\n",
      "     -------------------- ----------------- 522.2/987.6 kB 3.6 MB/s eta 0:00:01\n",
      "     -------------------------- ----------- 686.1/987.6 kB 3.3 MB/s eta 0:00:01\n",
      "     -------------------------------------  983.0/987.6 kB 3.7 MB/s eta 0:00:01\n",
      "     -------------------------------------- 987.6/987.6 kB 3.5 MB/s eta 0:00:00\n",
      "Requirement already satisfied: PyYAML>=5.3 in d:\\devsoftware\\miniconda3\\envs\\langchain\\lib\\site-packages (from langchain) (6.0.1)\n",
      "Collecting SQLAlchemy<3,>=1.4 (from langchain)\n",
      "  Downloading https://pypi.tuna.tsinghua.edu.cn/packages/d0/ff/5746886a796799d45285573c8a6564b4b84c730142ab974d7a3f7bacee6c/SQLAlchemy-2.0.31-cp312-cp312-win_amd64.whl (2.1 MB)\n",
      "     ---------------------------------------- 0.0/2.1 MB ? eta -:--:--\n",
      "     -- ------------------------------------- 0.2/2.1 MB 9.0 MB/s eta 0:00:01\n",
      "     -- ------------------------------------- 0.2/2.1 MB 9.0 MB/s eta 0:00:01\n",
      "     --- ------------------------------------ 0.2/2.1 MB 2.5 MB/s eta 0:00:01\n",
      "     ----- ---------------------------------- 0.3/2.1 MB 2.1 MB/s eta 0:00:01\n",
      "     ----------------- ---------------------- 0.9/2.1 MB 4.5 MB/s eta 0:00:01\n",
      "     ----------------- ---------------------- 0.9/2.1 MB 4.5 MB/s eta 0:00:01\n",
      "     ------------------ --------------------- 1.0/2.1 MB 3.6 MB/s eta 0:00:01\n",
      "     ----------------------------- ---------- 1.5/2.1 MB 4.6 MB/s eta 0:00:01\n",
      "     -------------------------------- ------- 1.7/2.1 MB 4.3 MB/s eta 0:00:01\n",
      "     ---------------------------------- ----- 1.8/2.1 MB 4.4 MB/s eta 0:00:01\n",
      "     ------------------------------------ --- 1.9/2.1 MB 4.0 MB/s eta 0:00:01\n",
      "     ---------------------------------------- 2.1/2.1 MB 4.1 MB/s eta 0:00:00\n",
      "Collecting aiohttp<4.0.0,>=3.8.3 (from langchain)\n",
      "  Downloading https://pypi.tuna.tsinghua.edu.cn/packages/a0/00/cdbda8b406ce7b656b9cb765f8134b1edb999f816f54e47347d2bc67f4bf/aiohttp-3.9.5-cp312-cp312-win_amd64.whl (369 kB)\n",
      "     ---------------------------------------- 0.0/369.0 kB ? eta -:--:--\n",
      "     --------------- ------------------------ 143.4/369.0 kB ? eta -:--:--\n",
      "     -------------------------------------  368.6/369.0 kB 4.6 MB/s eta 0:00:01\n",
      "     -------------------------------------- 369.0/369.0 kB 3.8 MB/s eta 0:00:00\n",
      "Collecting langchain-core<0.3.0,>=0.2.19 (from langchain)\n",
      "  Downloading https://pypi.tuna.tsinghua.edu.cn/packages/a9/dd/e259bcdccd5f37a7302f2da774ce1bba818927caeb781993b7b17ed9a186/langchain_core-0.2.19-py3-none-any.whl (366 kB)\n",
      "     ---------------------------------------- 0.0/366.5 kB ? eta -:--:--\n",
      "     - -------------------------------------- 10.2/366.5 kB ? eta -:--:--\n",
      "     - -------------------------------------- 10.2/366.5 kB ? eta -:--:--\n",
      "     --- --------------------------------- 30.7/366.5 kB 186.2 kB/s eta 0:00:02\n",
      "     -------------------------------------- 366.5/366.5 kB 2.1 MB/s eta 0:00:00\n",
      "Collecting langchain-text-splitters<0.3.0,>=0.2.0 (from langchain)\n",
      "  Downloading https://pypi.tuna.tsinghua.edu.cn/packages/06/76/9e0ca1b8881f64bf927f2205bf6c43a085c04646a71d911b3c05d76e90bb/langchain_text_splitters-0.2.2-py3-none-any.whl (25 kB)\n",
      "Collecting langsmith<0.2.0,>=0.1.17 (from langchain)\n",
      "  Downloading https://pypi.tuna.tsinghua.edu.cn/packages/12/87/ea668d9441ad831a80223d5a5c6c787d18b6094b00c67a179327ed47c838/langsmith-0.1.86-py3-none-any.whl (129 kB)\n",
      "     ---------------------------------------- 0.0/129.4 kB ? eta -:--:--\n",
      "     ------------ --------------------------- 41.0/129.4 kB ? eta -:--:--\n",
      "     -------------------------------------- 129.4/129.4 kB 1.9 MB/s eta 0:00:00\n",
      "Collecting numpy<2.0.0,>=1.26.0 (from langchain)\n",
      "  Downloading https://pypi.tuna.tsinghua.edu.cn/packages/16/2e/86f24451c2d530c88daf997cb8d6ac622c1d40d19f5a031ed68a4b73a374/numpy-1.26.4-cp312-cp312-win_amd64.whl (15.5 MB)\n",
      "     ---------------------------------------- 0.0/15.5 MB ? eta -:--:--\n",
      "     ---------------------------------------- 0.1/15.5 MB ? eta -:--:--\n",
      "     ---------------------------------------- 0.2/15.5 MB 1.8 MB/s eta 0:00:09\n",
      "      --------------------------------------- 0.2/15.5 MB 1.7 MB/s eta 0:00:09\n",
      "      --------------------------------------- 0.3/15.5 MB 1.5 MB/s eta 0:00:10\n",
      "      --------------------------------------- 0.3/15.5 MB 1.4 MB/s eta 0:00:11\n",
      "      --------------------------------------- 0.4/15.5 MB 1.3 MB/s eta 0:00:12\n",
      "      --------------------------------------- 0.4/15.5 MB 1.3 MB/s eta 0:00:12\n",
      "     - -------------------------------------- 0.5/15.5 MB 1.4 MB/s eta 0:00:11\n",
      "     - -------------------------------------- 0.5/15.5 MB 1.4 MB/s eta 0:00:11\n",
      "     - -------------------------------------- 0.6/15.5 MB 1.3 MB/s eta 0:00:12\n",
      "     - -------------------------------------- 0.6/15.5 MB 1.3 MB/s eta 0:00:12\n",
      "     - -------------------------------------- 0.7/15.5 MB 1.4 MB/s eta 0:00:11\n",
      "     - -------------------------------------- 0.8/15.5 MB 1.3 MB/s eta 0:00:12\n",
      "     - -------------------------------------- 0.8/15.5 MB 1.3 MB/s eta 0:00:12\n",
      "     -- ------------------------------------- 0.9/15.5 MB 1.2 MB/s eta 0:00:12\n",
      "     -- ------------------------------------- 0.9/15.5 MB 1.3 MB/s eta 0:00:12\n",
      "     -- ------------------------------------- 1.0/15.5 MB 1.2 MB/s eta 0:00:12\n",
      "     -- ------------------------------------- 1.0/15.5 MB 1.2 MB/s eta 0:00:12\n",
      "     -- ------------------------------------- 1.1/15.5 MB 1.3 MB/s eta 0:00:12\n",
      "     -- ------------------------------------- 1.2/15.5 MB 1.3 MB/s eta 0:00:12\n",
      "     -- ------------------------------------- 1.2/15.5 MB 1.3 MB/s eta 0:00:12\n",
      "     --- ------------------------------------ 1.2/15.5 MB 1.2 MB/s eta 0:00:12\n",
      "     --- ------------------------------------ 1.3/15.5 MB 1.2 MB/s eta 0:00:12\n",
      "     --- ------------------------------------ 1.4/15.5 MB 1.3 MB/s eta 0:00:12\n",
      "     --- ------------------------------------ 1.5/15.5 MB 1.3 MB/s eta 0:00:11\n",
      "     --- ------------------------------------ 1.5/15.5 MB 1.3 MB/s eta 0:00:11\n",
      "     --- ------------------------------------ 1.5/15.5 MB 1.3 MB/s eta 0:00:11\n",
      "     --- ------------------------------------ 1.5/15.5 MB 1.3 MB/s eta 0:00:11\n",
      "     ---- ----------------------------------- 1.7/15.5 MB 1.3 MB/s eta 0:00:11\n",
      "     ---- ----------------------------------- 1.7/15.5 MB 1.3 MB/s eta 0:00:11\n",
      "     ---- ----------------------------------- 1.8/15.5 MB 1.3 MB/s eta 0:00:12\n",
      "     ---- ----------------------------------- 1.8/15.5 MB 1.3 MB/s eta 0:00:11\n",
      "     ---- ----------------------------------- 1.9/15.5 MB 1.2 MB/s eta 0:00:12\n",
      "     ----- ---------------------------------- 2.0/15.5 MB 1.3 MB/s eta 0:00:11\n",
      "     ----- ---------------------------------- 2.0/15.5 MB 1.2 MB/s eta 0:00:11\n",
      "     ----- ---------------------------------- 2.1/15.5 MB 1.3 MB/s eta 0:00:11\n",
      "     ----- ---------------------------------- 2.2/15.5 MB 1.3 MB/s eta 0:00:11\n",
      "     ----- ---------------------------------- 2.2/15.5 MB 1.3 MB/s eta 0:00:11\n",
      "     ----- ---------------------------------- 2.2/15.5 MB 1.3 MB/s eta 0:00:11\n",
      "     ------ --------------------------------- 2.4/15.5 MB 1.3 MB/s eta 0:00:11\n",
      "     ------ --------------------------------- 2.4/15.5 MB 1.3 MB/s eta 0:00:11\n",
      "     ------ --------------------------------- 2.4/15.5 MB 1.3 MB/s eta 0:00:11\n",
      "     ------ --------------------------------- 2.4/15.5 MB 1.3 MB/s eta 0:00:11\n",
      "     ------ --------------------------------- 2.6/15.5 MB 1.3 MB/s eta 0:00:11\n",
      "     ------ --------------------------------- 2.6/15.5 MB 1.3 MB/s eta 0:00:11\n",
      "     ------- -------------------------------- 2.7/15.5 MB 1.3 MB/s eta 0:00:10\n",
      "     ------- -------------------------------- 2.8/15.5 MB 1.3 MB/s eta 0:00:10\n",
      "     ------- -------------------------------- 2.8/15.5 MB 1.3 MB/s eta 0:00:10\n",
      "     ------- -------------------------------- 2.9/15.5 MB 1.3 MB/s eta 0:00:11\n",
      "     ------- -------------------------------- 2.9/15.5 MB 1.3 MB/s eta 0:00:10\n",
      "     ------- -------------------------------- 3.0/15.5 MB 1.3 MB/s eta 0:00:10\n",
      "     ------- -------------------------------- 3.1/15.5 MB 1.3 MB/s eta 0:00:10\n",
      "     -------- ------------------------------- 3.2/15.5 MB 1.3 MB/s eta 0:00:10\n",
      "     -------- ------------------------------- 3.3/15.5 MB 1.3 MB/s eta 0:00:10\n",
      "     -------- ------------------------------- 3.3/15.5 MB 1.3 MB/s eta 0:00:10\n",
      "     -------- ------------------------------- 3.4/15.5 MB 1.3 MB/s eta 0:00:10\n",
      "     -------- ------------------------------- 3.5/15.5 MB 1.3 MB/s eta 0:00:10\n",
      "     --------- ------------------------------ 3.6/15.5 MB 1.3 MB/s eta 0:00:09\n",
      "     --------- ------------------------------ 3.6/15.5 MB 1.3 MB/s eta 0:00:09\n",
      "     --------- ------------------------------ 3.7/15.5 MB 1.3 MB/s eta 0:00:09\n",
      "     --------- ------------------------------ 3.8/15.5 MB 1.4 MB/s eta 0:00:09\n",
      "     --------- ------------------------------ 3.8/15.5 MB 1.4 MB/s eta 0:00:09\n",
      "     ---------- ----------------------------- 4.0/15.5 MB 1.4 MB/s eta 0:00:09\n",
      "     ---------- ----------------------------- 4.0/15.5 MB 1.4 MB/s eta 0:00:09\n",
      "     ---------- ----------------------------- 4.1/15.5 MB 1.4 MB/s eta 0:00:09\n",
      "     ---------- ----------------------------- 4.1/15.5 MB 1.4 MB/s eta 0:00:09\n",
      "     ---------- ----------------------------- 4.1/15.5 MB 1.4 MB/s eta 0:00:09\n",
      "     ---------- ----------------------------- 4.2/15.5 MB 1.4 MB/s eta 0:00:09\n",
      "     ----------- ---------------------------- 4.4/15.5 MB 1.4 MB/s eta 0:00:08\n",
      "     ----------- ---------------------------- 4.4/15.5 MB 1.4 MB/s eta 0:00:08\n",
      "     ----------- ---------------------------- 4.4/15.5 MB 1.4 MB/s eta 0:00:08\n",
      "     ----------- ---------------------------- 4.6/15.5 MB 1.4 MB/s eta 0:00:08\n",
      "     ----------- ---------------------------- 4.6/15.5 MB 1.4 MB/s eta 0:00:08\n",
      "     ------------ --------------------------- 4.8/15.5 MB 1.4 MB/s eta 0:00:08\n",
      "     ------------ --------------------------- 4.9/15.5 MB 1.4 MB/s eta 0:00:08\n",
      "     ------------ --------------------------- 4.9/15.5 MB 1.4 MB/s eta 0:00:08\n",
      "     ------------ --------------------------- 4.9/15.5 MB 1.4 MB/s eta 0:00:08\n",
      "     ------------- -------------------------- 5.1/15.5 MB 1.4 MB/s eta 0:00:08\n",
      "     ------------- -------------------------- 5.1/15.5 MB 1.4 MB/s eta 0:00:08\n",
      "     ------------- -------------------------- 5.2/15.5 MB 1.4 MB/s eta 0:00:08\n",
      "     ------------- -------------------------- 5.3/15.5 MB 1.4 MB/s eta 0:00:08\n",
      "     ------------- -------------------------- 5.3/15.5 MB 1.4 MB/s eta 0:00:08\n",
      "     ------------- -------------------------- 5.3/15.5 MB 1.4 MB/s eta 0:00:08\n",
      "     -------------- ------------------------- 5.4/15.5 MB 1.4 MB/s eta 0:00:08\n",
      "     -------------- ------------------------- 5.5/15.5 MB 1.4 MB/s eta 0:00:08\n",
      "     -------------- ------------------------- 5.5/15.5 MB 1.4 MB/s eta 0:00:08\n",
      "     -------------- ------------------------- 5.5/15.5 MB 1.4 MB/s eta 0:00:08\n",
      "     -------------- ------------------------- 5.7/15.5 MB 1.4 MB/s eta 0:00:08\n",
      "     -------------- ------------------------- 5.7/15.5 MB 1.4 MB/s eta 0:00:08\n",
      "     -------------- ------------------------- 5.7/15.5 MB 1.4 MB/s eta 0:00:08\n",
      "     -------------- ------------------------- 5.7/15.5 MB 1.4 MB/s eta 0:00:08\n",
      "     --------------- ------------------------ 5.9/15.5 MB 1.4 MB/s eta 0:00:07\n",
      "     --------------- ------------------------ 5.9/15.5 MB 1.4 MB/s eta 0:00:07\n",
      "     --------------- ------------------------ 6.1/15.5 MB 1.4 MB/s eta 0:00:07\n",
      "     --------------- ------------------------ 6.1/15.5 MB 1.4 MB/s eta 0:00:07\n",
      "     ---------------- ----------------------- 6.2/15.5 MB 1.4 MB/s eta 0:00:07\n",
      "     ---------------- ----------------------- 6.3/15.5 MB 1.4 MB/s eta 0:00:07\n",
      "     ---------------- ----------------------- 6.3/15.5 MB 1.4 MB/s eta 0:00:07\n",
      "     ---------------- ----------------------- 6.5/15.5 MB 1.4 MB/s eta 0:00:07\n",
      "     ---------------- ----------------------- 6.5/15.5 MB 1.4 MB/s eta 0:00:07\n",
      "     ---------------- ----------------------- 6.5/15.5 MB 1.4 MB/s eta 0:00:07\n",
      "     ---------------- ----------------------- 6.6/15.5 MB 1.4 MB/s eta 0:00:07\n",
      "     ----------------- ---------------------- 6.7/15.5 MB 1.4 MB/s eta 0:00:07\n",
      "     ----------------- ---------------------- 6.7/15.5 MB 1.4 MB/s eta 0:00:07\n",
      "     ----------------- ---------------------- 6.7/15.5 MB 1.4 MB/s eta 0:00:07\n",
      "     ----------------- ---------------------- 6.8/15.5 MB 1.4 MB/s eta 0:00:07\n",
      "     ----------------- ---------------------- 7.0/15.5 MB 1.4 MB/s eta 0:00:07\n",
      "     ------------------ --------------------- 7.0/15.5 MB 1.4 MB/s eta 0:00:07\n",
      "     ------------------ --------------------- 7.0/15.5 MB 1.4 MB/s eta 0:00:07\n",
      "     ------------------ --------------------- 7.1/15.5 MB 1.4 MB/s eta 0:00:07\n",
      "     ------------------ --------------------- 7.2/15.5 MB 1.4 MB/s eta 0:00:06\n",
      "     ------------------ --------------------- 7.2/15.5 MB 1.4 MB/s eta 0:00:06\n",
      "     ------------------ --------------------- 7.2/15.5 MB 1.4 MB/s eta 0:00:06\n",
      "     ------------------ --------------------- 7.3/15.5 MB 1.4 MB/s eta 0:00:06\n",
      "     ------------------- -------------------- 7.5/15.5 MB 1.4 MB/s eta 0:00:06\n",
      "     ------------------- -------------------- 7.5/15.5 MB 1.4 MB/s eta 0:00:06\n",
      "     ------------------- -------------------- 7.6/15.5 MB 1.4 MB/s eta 0:00:06\n",
      "     ------------------- -------------------- 7.7/15.5 MB 1.4 MB/s eta 0:00:06\n",
      "     ------------------- -------------------- 7.7/15.5 MB 1.4 MB/s eta 0:00:06\n",
      "     ------------------- -------------------- 7.7/15.5 MB 1.4 MB/s eta 0:00:06\n",
      "     ------------------- -------------------- 7.7/15.5 MB 1.4 MB/s eta 0:00:06\n",
      "     -------------------- ------------------- 7.9/15.5 MB 1.4 MB/s eta 0:00:06\n",
      "     -------------------- ------------------- 8.0/15.5 MB 1.4 MB/s eta 0:00:06\n",
      "     -------------------- ------------------- 8.1/15.5 MB 1.4 MB/s eta 0:00:06\n",
      "     -------------------- ------------------- 8.1/15.5 MB 1.4 MB/s eta 0:00:06\n",
      "     -------------------- ------------------- 8.1/15.5 MB 1.4 MB/s eta 0:00:06\n",
      "     -------------------- ------------------- 8.1/15.5 MB 1.4 MB/s eta 0:00:06\n",
      "     --------------------- ------------------ 8.3/15.5 MB 1.4 MB/s eta 0:00:06\n",
      "     --------------------- ------------------ 8.4/15.5 MB 1.4 MB/s eta 0:00:06\n",
      "     --------------------- ------------------ 8.5/15.5 MB 1.4 MB/s eta 0:00:05\n",
      "     ---------------------- ----------------- 8.6/15.5 MB 1.4 MB/s eta 0:00:05\n",
      "     ---------------------- ----------------- 8.7/15.5 MB 1.4 MB/s eta 0:00:05\n",
      "     ---------------------- ----------------- 8.7/15.5 MB 1.4 MB/s eta 0:00:05\n",
      "     ---------------------- ----------------- 8.9/15.5 MB 1.4 MB/s eta 0:00:05\n",
      "     ---------------------- ----------------- 8.9/15.5 MB 1.4 MB/s eta 0:00:05\n",
      "     ----------------------- ---------------- 8.9/15.5 MB 1.4 MB/s eta 0:00:05\n",
      "     ----------------------- ---------------- 9.0/15.5 MB 1.4 MB/s eta 0:00:05\n",
      "     ----------------------- ---------------- 9.0/15.5 MB 1.4 MB/s eta 0:00:05\n",
      "     ----------------------- ---------------- 9.1/15.5 MB 1.4 MB/s eta 0:00:05\n",
      "     ----------------------- ---------------- 9.3/15.5 MB 1.4 MB/s eta 0:00:05\n",
      "     ----------------------- ---------------- 9.3/15.5 MB 1.4 MB/s eta 0:00:05\n",
      "     ------------------------ --------------- 9.4/15.5 MB 1.4 MB/s eta 0:00:05\n",
      "     ------------------------ --------------- 9.5/15.5 MB 1.4 MB/s eta 0:00:05\n",
      "     ------------------------ --------------- 9.5/15.5 MB 1.4 MB/s eta 0:00:05\n",
      "     ------------------------ --------------- 9.7/15.5 MB 1.5 MB/s eta 0:00:05\n",
      "     ------------------------ --------------- 9.7/15.5 MB 1.5 MB/s eta 0:00:05\n",
      "     ------------------------- -------------- 9.9/15.5 MB 1.5 MB/s eta 0:00:04\n",
      "     ------------------------- -------------- 9.9/15.5 MB 1.5 MB/s eta 0:00:04\n",
      "     ------------------------- -------------- 9.9/15.5 MB 1.5 MB/s eta 0:00:04\n",
      "     ------------------------- -------------- 10.1/15.5 MB 1.5 MB/s eta 0:00:04\n",
      "     -------------------------- ------------- 10.1/15.5 MB 1.5 MB/s eta 0:00:04\n",
      "     -------------------------- ------------- 10.2/15.5 MB 1.5 MB/s eta 0:00:04\n",
      "     -------------------------- ------------- 10.2/15.5 MB 1.5 MB/s eta 0:00:04\n",
      "     -------------------------- ------------- 10.2/15.5 MB 1.5 MB/s eta 0:00:04\n",
      "     -------------------------- ------------- 10.4/15.5 MB 1.5 MB/s eta 0:00:04\n",
      "     --------------------------- ------------ 10.5/15.5 MB 1.5 MB/s eta 0:00:04\n",
      "     --------------------------- ------------ 10.7/15.5 MB 1.5 MB/s eta 0:00:04\n",
      "     --------------------------- ------------ 10.7/15.5 MB 1.5 MB/s eta 0:00:04\n",
      "     ---------------------------- ----------- 10.9/15.5 MB 1.5 MB/s eta 0:00:04\n",
      "     ---------------------------- ----------- 10.9/15.5 MB 1.5 MB/s eta 0:00:04\n",
      "     ---------------------------- ----------- 11.0/15.5 MB 1.5 MB/s eta 0:00:04\n",
      "     ---------------------------- ----------- 11.0/15.5 MB 1.5 MB/s eta 0:00:03\n",
      "     ---------------------------- ----------- 11.2/15.5 MB 1.5 MB/s eta 0:00:03\n",
      "     ----------------------------- ---------- 11.4/15.5 MB 1.5 MB/s eta 0:00:03\n",
      "     ----------------------------- ---------- 11.5/15.5 MB 1.6 MB/s eta 0:00:03\n",
      "     ----------------------------- ---------- 11.6/15.5 MB 1.6 MB/s eta 0:00:03\n",
      "     ------------------------------ --------- 11.7/15.5 MB 1.6 MB/s eta 0:00:03\n",
      "     ------------------------------ --------- 11.7/15.5 MB 1.6 MB/s eta 0:00:03\n",
      "     ------------------------------ --------- 11.8/15.5 MB 1.6 MB/s eta 0:00:03\n",
      "     ------------------------------ --------- 11.9/15.5 MB 1.6 MB/s eta 0:00:03\n",
      "     ------------------------------- -------- 12.2/15.5 MB 1.6 MB/s eta 0:00:03\n",
      "     ------------------------------- -------- 12.2/15.5 MB 1.6 MB/s eta 0:00:03\n",
      "     ------------------------------- -------- 12.3/15.5 MB 1.6 MB/s eta 0:00:03\n",
      "     ------------------------------- -------- 12.4/15.5 MB 1.6 MB/s eta 0:00:02\n",
      "     -------------------------------- ------- 12.4/15.5 MB 1.6 MB/s eta 0:00:02\n",
      "     -------------------------------- ------- 12.6/15.5 MB 1.6 MB/s eta 0:00:02\n",
      "     -------------------------------- ------- 12.6/15.5 MB 1.6 MB/s eta 0:00:02\n",
      "     --------------------------------- ------ 12.9/15.5 MB 1.7 MB/s eta 0:00:02\n",
      "     --------------------------------- ------ 13.0/15.5 MB 1.7 MB/s eta 0:00:02\n",
      "     --------------------------------- ------ 13.2/15.5 MB 1.7 MB/s eta 0:00:02\n",
      "     ---------------------------------- ----- 13.3/15.5 MB 1.7 MB/s eta 0:00:02\n",
      "     ---------------------------------- ----- 13.3/15.5 MB 1.7 MB/s eta 0:00:02\n",
      "     ---------------------------------- ----- 13.4/15.5 MB 1.7 MB/s eta 0:00:02\n",
      "     ---------------------------------- ----- 13.4/15.5 MB 1.7 MB/s eta 0:00:02\n",
      "     ----------------------------------- ---- 13.7/15.5 MB 1.7 MB/s eta 0:00:02\n",
      "     ----------------------------------- ---- 13.9/15.5 MB 1.8 MB/s eta 0:00:01\n",
      "     ----------------------------------- ---- 14.0/15.5 MB 1.8 MB/s eta 0:00:01\n",
      "     ----------------------------------- ---- 14.0/15.5 MB 1.8 MB/s eta 0:00:01\n",
      "     ------------------------------------ --- 14.0/15.5 MB 1.8 MB/s eta 0:00:01\n",
      "     ------------------------------------- -- 14.4/15.5 MB 1.8 MB/s eta 0:00:01\n",
      "     ------------------------------------- -- 14.4/15.5 MB 1.8 MB/s eta 0:00:01\n",
      "     ------------------------------------- -- 14.6/15.5 MB 1.8 MB/s eta 0:00:01\n",
      "     ------------------------------------- -- 14.6/15.5 MB 1.8 MB/s eta 0:00:01\n",
      "     -------------------------------------- - 14.8/15.5 MB 1.8 MB/s eta 0:00:01\n",
      "     -------------------------------------- - 14.8/15.5 MB 1.8 MB/s eta 0:00:01\n",
      "     -------------------------------------- - 15.0/15.5 MB 1.8 MB/s eta 0:00:01\n",
      "     ---------------------------------------  15.2/15.5 MB 1.9 MB/s eta 0:00:01\n",
      "     ---------------------------------------  15.2/15.5 MB 1.9 MB/s eta 0:00:01\n",
      "     ---------------------------------------  15.2/15.5 MB 1.8 MB/s eta 0:00:01\n",
      "     ---------------------------------------  15.3/15.5 MB 1.8 MB/s eta 0:00:01\n",
      "     ---------------------------------------  15.5/15.5 MB 1.9 MB/s eta 0:00:01\n",
      "     ---------------------------------------- 15.5/15.5 MB 1.8 MB/s eta 0:00:00\n",
      "Requirement already satisfied: pydantic<3,>=1 in d:\\devsoftware\\miniconda3\\envs\\langchain\\lib\\site-packages (from langchain) (2.8.2)\n",
      "Requirement already satisfied: requests<3,>=2 in d:\\devsoftware\\miniconda3\\envs\\langchain\\lib\\site-packages (from langchain) (2.32.3)\n",
      "Collecting tenacity!=8.4.0,<9.0.0,>=8.1.0 (from langchain)\n",
      "  Downloading https://pypi.tuna.tsinghua.edu.cn/packages/d2/3f/8ba87d9e287b9d385a02a7114ddcef61b26f86411e121c9003eb509a1773/tenacity-8.5.0-py3-none-any.whl (28 kB)\n",
      "Collecting aiosignal>=1.1.2 (from aiohttp<4.0.0,>=3.8.3->langchain)\n",
      "  Downloading https://pypi.tuna.tsinghua.edu.cn/packages/76/ac/a7305707cb852b7e16ff80eaf5692309bde30e2b1100a1fcacdc8f731d97/aiosignal-1.3.1-py3-none-any.whl (7.6 kB)\n",
      "Requirement already satisfied: attrs>=17.3.0 in d:\\devsoftware\\miniconda3\\envs\\langchain\\lib\\site-packages (from aiohttp<4.0.0,>=3.8.3->langchain) (23.2.0)\n",
      "Collecting frozenlist>=1.1.1 (from aiohttp<4.0.0,>=3.8.3->langchain)\n",
      "  Downloading https://pypi.tuna.tsinghua.edu.cn/packages/3e/dc/96647994a013bc72f3d453abab18340b7f5e222b7b7291e3697ca1fcfbd5/frozenlist-1.4.1-cp312-cp312-win_amd64.whl (50 kB)\n",
      "     ---------------------------------------- 0.0/50.5 kB ? eta -:--:--\n",
      "     ---------------------------------------- 50.5/50.5 kB 2.7 MB/s eta 0:00:00\n",
      "Collecting multidict<7.0,>=4.5 (from aiohttp<4.0.0,>=3.8.3->langchain)\n",
      "  Downloading https://pypi.tuna.tsinghua.edu.cn/packages/4a/68/66fceb758ad7a88993940dbdf3ac59911ba9dc46d7798bf6c8652f89f853/multidict-6.0.5-cp312-cp312-win_amd64.whl (27 kB)\n",
      "Collecting yarl<2.0,>=1.0 (from aiohttp<4.0.0,>=3.8.3->langchain)\n",
      "  Downloading https://pypi.tuna.tsinghua.edu.cn/packages/c5/f4/2fdc5a11503bc61818243653d836061c9ce0370e2dd9ac5917258a007675/yarl-1.9.4-cp312-cp312-win_amd64.whl (76 kB)\n",
      "     ---------------------------------------- 0.0/76.4 kB ? eta -:--:--\n",
      "     ---------------- ----------------------- 30.7/76.4 kB 1.3 MB/s eta 0:00:01\n",
      "     -------------------- ----------------- 41.0/76.4 kB 393.8 kB/s eta 0:00:01\n",
      "     ----------------------------------- -- 71.7/76.4 kB 435.7 kB/s eta 0:00:01\n",
      "     -------------------------------------- 76.4/76.4 kB 424.1 kB/s eta 0:00:00\n",
      "Collecting jsonpatch<2.0,>=1.33 (from langchain-core<0.3.0,>=0.2.19->langchain)\n",
      "  Downloading https://pypi.tuna.tsinghua.edu.cn/packages/73/07/02e16ed01e04a374e644b575638ec7987ae846d25ad97bcc9945a3ee4b0e/jsonpatch-1.33-py2.py3-none-any.whl (12 kB)\n",
      "Requirement already satisfied: packaging<25,>=23.2 in d:\\devsoftware\\miniconda3\\envs\\langchain\\lib\\site-packages (from langchain-core<0.3.0,>=0.2.19->langchain) (24.1)\n",
      "Collecting orjson<4.0.0,>=3.9.14 (from langsmith<0.2.0,>=0.1.17->langchain)\n",
      "  Downloading https://pypi.tuna.tsinghua.edu.cn/packages/21/3a/f004e58a43ff2741703eb23f0c56347c7a41bbbcafd45d1494be68319269/orjson-3.10.6-cp312-none-win_amd64.whl (136 kB)\n",
      "     ---------------------------------------- 0.0/136.4 kB ? eta -:--:--\n",
      "     --------- ------------------------------ 30.7/136.4 kB ? eta -:--:--\n",
      "     --------- ------------------------------ 30.7/136.4 kB ? eta -:--:--\n",
      "     -----------------------------------  133.1/136.4 kB 983.0 kB/s eta 0:00:01\n",
      "     ------------------------------------ 136.4/136.4 kB 894.9 kB/s eta 0:00:00\n",
      "Requirement already satisfied: annotated-types>=0.4.0 in d:\\devsoftware\\miniconda3\\envs\\langchain\\lib\\site-packages (from pydantic<3,>=1->langchain) (0.7.0)\n",
      "Requirement already satisfied: pydantic-core==2.20.1 in d:\\devsoftware\\miniconda3\\envs\\langchain\\lib\\site-packages (from pydantic<3,>=1->langchain) (2.20.1)\n",
      "Requirement already satisfied: typing-extensions>=4.6.1 in d:\\devsoftware\\miniconda3\\envs\\langchain\\lib\\site-packages (from pydantic<3,>=1->langchain) (4.12.2)\n",
      "Requirement already satisfied: charset-normalizer<4,>=2 in d:\\devsoftware\\miniconda3\\envs\\langchain\\lib\\site-packages (from requests<3,>=2->langchain) (3.3.2)\n",
      "Requirement already satisfied: idna<4,>=2.5 in d:\\devsoftware\\miniconda3\\envs\\langchain\\lib\\site-packages (from requests<3,>=2->langchain) (3.7)\n",
      "Requirement already satisfied: urllib3<3,>=1.21.1 in d:\\devsoftware\\miniconda3\\envs\\langchain\\lib\\site-packages (from requests<3,>=2->langchain) (2.2.2)\n",
      "Requirement already satisfied: certifi>=2017.4.17 in d:\\devsoftware\\miniconda3\\envs\\langchain\\lib\\site-packages (from requests<3,>=2->langchain) (2024.7.4)\n",
      "Collecting greenlet!=0.4.17 (from SQLAlchemy<3,>=1.4->langchain)\n",
      "  Downloading https://pypi.tuna.tsinghua.edu.cn/packages/53/80/3d94d5999b4179d91bcc93745d1b0815b073d61be79dd546b840d17adb18/greenlet-3.0.3-cp312-cp312-win_amd64.whl (293 kB)\n",
      "     ---------------------------------------- 0.0/293.6 kB ? eta -:--:--\n",
      "     ---------------------------- -------- 225.3/293.6 kB 14.3 MB/s eta 0:00:01\n",
      "     -------------------------------------- 293.6/293.6 kB 3.6 MB/s eta 0:00:00\n",
      "Requirement already satisfied: jsonpointer>=1.9 in d:\\devsoftware\\miniconda3\\envs\\langchain\\lib\\site-packages (from jsonpatch<2.0,>=1.33->langchain-core<0.3.0,>=0.2.19->langchain) (3.0.0)\n",
      "Installing collected packages: tenacity, orjson, numpy, multidict, jsonpatch, greenlet, frozenlist, yarl, SQLAlchemy, aiosignal, langsmith, aiohttp, langchain-core, langchain-text-splitters, langchain\n",
      "  Attempting uninstall: numpy\n",
      "    Found existing installation: numpy 2.0.0\n",
      "    Uninstalling numpy-2.0.0:\n",
      "      Successfully uninstalled numpy-2.0.0\n",
      "Successfully installed SQLAlchemy-2.0.31 aiohttp-3.9.5 aiosignal-1.3.1 frozenlist-1.4.1 greenlet-3.0.3 jsonpatch-1.33 langchain-0.2.8 langchain-core-0.2.19 langchain-text-splitters-0.2.2 langsmith-0.1.86 multidict-6.0.5 numpy-1.26.4 orjson-3.10.6 tenacity-8.5.0 yarl-1.9.4\n"
     ]
    }
   ],
   "source": [
    "! pip install -U langchain"
   ]
  },
  {
   "cell_type": "markdown",
   "id": "c81a7df0-26c7-4eb8-92f1-cc54445cf507",
   "metadata": {},
   "source": [
    "## LLMChain\n",
    "\n",
    "LLMChain 是 LangChain 中最简单的链，作为其他复杂 Chains 和 Agents 的内部调用，被广泛应用。\n",
    "\n",
    "一个LLMChain由PromptTemplate和语言模型（LLM or Chat Model）组成。它使用直接传入（或 memory 提供）的 key-value 来规范化生成 Prompt Template（提示模板），并将生成的 prompt （格式化后的字符串）传递给大模型，并返回大模型输出。\n",
    "\n",
    "![](../images/llm_chain.png)"
   ]
  },
  {
   "cell_type": "markdown",
   "id": "4fbd5ca7-ca54-4701-919c-2857266caefc",
   "metadata": {},
   "source": [
    "## Router Chain: 实现条件判断的大模型调用\n",
    "\n",
    "\n",
    "这段代码构建了一个可定制的链路系统，用户可以提供不同的输入提示，并根据这些提示获取适当的响应。\n",
    "\n",
    "主要逻辑：从`prompt_infos`创建多个`LLMChain`对象，并将它们保存在一个字典中，然后创建一个默认的`ConversationChain`，最后创建一个带有路由功能的`MultiPromptChain`。\n",
    "\n",
    "![](../images/router_chain.png)"
   ]
  },
  {
   "cell_type": "code",
   "execution_count": 57,
   "id": "aaf8c391-9225-4e66-ad4d-d689b53a0379",
   "metadata": {},
   "outputs": [],
   "source": [
    "from langchain.chains.router import MultiPromptChain\n",
    "from langchain_openai import OpenAI\n",
    "from langchain.chains import ConversationChain\n",
    "from langchain.chains.llm import LLMChain\n",
    "from langchain.prompts import PromptTemplate"
   ]
  },
  {
   "cell_type": "code",
   "execution_count": 58,
   "id": "33b5061c-391e-4762-91c7-73b57f4ab501",
   "metadata": {},
   "outputs": [],
   "source": [
    "physics_template = \"\"\"你是一位非常聪明的物理教授。\n",
    "你擅长以简洁易懂的方式回答关于物理的问题。\n",
    "当你不知道某个问题的答案时，你会坦诚承认。\n",
    "\n",
    "这是一个问题：\n",
    "{input}\"\"\"\n",
    "\n",
    "\n",
    "math_template = \"\"\"你是一位很棒的数学家。你擅长回答数学问题。\n",
    "之所以如此出色，是因为你能够将难题分解成各个组成部分，\n",
    "先回答这些组成部分，然后再将它们整合起来回答更广泛的问题。\n",
    "\n",
    "这是一个问题：\n",
    "{input}\"\"\"\n",
    "\n",
    "\n",
    "biology_template = \"\"\"你是一位经验丰富的生物学教授。\n",
    "你擅长用直观的方式回答关于生物学的问题。\n",
    "当你面对一个未知的问题时，你会进行研究，直到找到答案。\n",
    "\n",
    "这是一个问题：\n",
    "{input}\"\"\"\n",
    "\n",
    "computer_science_template = \"\"\"你是一位资深的计算机科学家。\n",
    "你对编程和计算机系统有深入的理解。\n",
    "遇到技术难题时，你会逐步分析问题，直到找到解决方案。\n",
    "\n",
    "这是一个问题：\n",
    "{input}\"\"\"\n",
    "\n",
    "chinese_literature_template = \"\"\"你是一位汉语言文学的专家。\n",
    "你对中国的文学作品和语言文化有深入的了解。\n",
    "面对相关问题，你能提供详尽的背景信息和精准的解读。\n",
    "\n",
    "这是一个问题：\n",
    "{input}\"\"\""
   ]
  },
  {
   "cell_type": "code",
   "execution_count": 59,
   "id": "5ef1db6e-3da4-4f9b-9707-0f30aa293dd7",
   "metadata": {},
   "outputs": [],
   "source": [
    "prompt_infos = [\n",
    "    {\n",
    "        \"name\": \"物理\",\n",
    "        \"description\": \"适用于回答物理问题\",\n",
    "        \"prompt_template\": physics_template,\n",
    "    },\n",
    "    {\n",
    "        \"name\": \"数学\",\n",
    "        \"description\": \"适用于回答数学问题\",\n",
    "        \"prompt_template\": math_template,\n",
    "    },\n",
    "    {\n",
    "        \"name\": \"生物\",\n",
    "        \"description\": \"适用于回答生物学问题\",\n",
    "        \"prompt_template\": biology_template,\n",
    "    },\n",
    "    {\n",
    "        \"name\": \"计算机\",\n",
    "        \"description\": \"适用于回答计算机科学问题\",\n",
    "        \"prompt_template\": computer_science_template,\n",
    "    },\n",
    "    {\n",
    "        \"name\": \"汉语言文学\",\n",
    "        \"description\": \"适用于回答汉语言文学问题\",\n",
    "        \"prompt_template\": chinese_literature_template,\n",
    "    }    \n",
    "]"
   ]
  },
  {
   "cell_type": "code",
   "execution_count": 60,
   "id": "3983cafe-c2d5-4951-b779-88d844594777",
   "metadata": {},
   "outputs": [],
   "source": [
    "llm = OpenAI(model_name=\"gpt-3.5-turbo-instruct\", base_url=\"https://api.xiaoai.plus/v1\", api_key=\"sk-20kg2ng944ZYhmdr87Db79E9323e48DaA1470c40B4B5439c\")"
   ]
  },
  {
   "cell_type": "code",
   "execution_count": 61,
   "id": "db8be9f0-1ac2-4ded-8950-6403cfa40004",
   "metadata": {},
   "outputs": [],
   "source": [
    "# 创建一个空的目标链字典，用于存放根据prompt_infos生成的LLMChain。\n",
    "destination_chains = {}\n",
    "\n",
    "# 遍历prompt_infos列表，为每个信息创建一个LLMChain。\n",
    "for p_info in prompt_infos:\n",
    "    name = p_info[\"name\"]  # 提取名称\n",
    "    prompt_template = p_info[\"prompt_template\"]  # 提取模板\n",
    "    # 创建PromptTemplate对象\n",
    "    prompt = PromptTemplate(template=prompt_template, input_variables=[\"input\"])\n",
    "    # 使用上述模板和llm对象创建LLMChain对象\n",
    "    chain = LLMChain(llm=llm, prompt=prompt)\n",
    "    # 将新创建的chain对象添加到destination_chains字典中\n",
    "    destination_chains[name] = chain\n",
    "\n",
    "# 创建一个默认的ConversationChain\n",
    "default_chain = ConversationChain(llm=llm, output_key=\"text\")"
   ]
  },
  {
   "cell_type": "code",
   "execution_count": 62,
   "id": "ae77b13a-2077-4e80-83f9-a2b1d8398461",
   "metadata": {},
   "outputs": [
    {
     "data": {
      "text/plain": [
       "langchain.chains.conversation.base.ConversationChain"
      ]
     },
     "execution_count": 62,
     "metadata": {},
     "output_type": "execute_result"
    }
   ],
   "source": [
    "type(default_chain)"
   ]
  },
  {
   "cell_type": "markdown",
   "id": "f5aa4a82-2d96-4124-8896-4e11e5d5c8e9",
   "metadata": {},
   "source": [
    "### 使用 LLMRouterChain 实现条件判断调用\n",
    "\n",
    "这段代码定义了一个chain对象（LLMRouterChain），该对象首先使用router_chain来决定哪个destination_chain应该被执行，如果没有合适的目标链，则默认使用default_chain。"
   ]
  },
  {
   "cell_type": "code",
   "execution_count": 63,
   "id": "1c196e6c-e767-4d4f-8327-50ead641bc3a",
   "metadata": {},
   "outputs": [],
   "source": [
    "from langchain.chains.router.llm_router import LLMRouterChain, RouterOutputParser\n",
    "from langchain.chains.router.multi_prompt_prompt import MULTI_PROMPT_ROUTER_TEMPLATE"
   ]
  },
  {
   "cell_type": "code",
   "execution_count": 64,
   "id": "f5ada86e-e430-412c-828d-b053b630f07c",
   "metadata": {},
   "outputs": [],
   "source": [
    "# 从prompt_infos中提取目标信息并将其转化为字符串列表\n",
    "destinations = [f\"{p['name']}: {p['description']}\" for p in prompt_infos]\n",
    "# 使用join方法将列表转化为字符串，每个元素之间用换行符分隔\n",
    "destinations_str = \"\\n\".join(destinations)\n",
    "# 根据MULTI_PROMPT_ROUTER_TEMPLATE格式化字符串和destinations_str创建路由模板\n",
    "router_template = MULTI_PROMPT_ROUTER_TEMPLATE.format(destinations=destinations_str)\n",
    "# 创建路由的PromptTemplate\n",
    "router_prompt = PromptTemplate(\n",
    "    template=router_template,\n",
    "    input_variables=[\"input\"],\n",
    "    output_parser=RouterOutputParser(),\n",
    ")\n",
    "# 使用上述路由模板和llm对象创建LLMRouterChain对象\n",
    "router_chain = LLMRouterChain.from_llm(llm, router_prompt)"
   ]
  },
  {
   "cell_type": "code",
   "execution_count": 65,
   "id": "8c1013dc-ae1f-468d-96b3-4babe0d50d1f",
   "metadata": {},
   "outputs": [
    {
     "name": "stdout",
     "output_type": "stream",
     "text": [
      "['物理: 适用于回答物理问题', '数学: 适用于回答数学问题', '生物: 适用于回答生物学问题', '计算机: 适用于回答计算机科学问题', '汉语言文学: 适用于回答汉语言文学问题']\n"
     ]
    }
   ],
   "source": [
    "print(destinations)"
   ]
  },
  {
   "cell_type": "code",
   "execution_count": 66,
   "id": "a85ef126-aca1-40c2-8e01-d15af5500785",
   "metadata": {},
   "outputs": [
    {
     "name": "stdout",
     "output_type": "stream",
     "text": [
      "物理: 适用于回答物理问题\n",
      "数学: 适用于回答数学问题\n",
      "生物: 适用于回答生物学问题\n",
      "计算机: 适用于回答计算机科学问题\n",
      "汉语言文学: 适用于回答汉语言文学问题\n"
     ]
    }
   ],
   "source": [
    "print(destinations_str)"
   ]
  },
  {
   "cell_type": "code",
   "execution_count": 67,
   "id": "5db81fcb-704a-4250-a6b5-210e4be77af5",
   "metadata": {},
   "outputs": [
    {
     "name": "stdout",
     "output_type": "stream",
     "text": [
      "Given a raw text input to a language model select the model prompt best suited for the input. You will be given the names of the available prompts and a description of what the prompt is best suited for. You may also revise the original input if you think that revising it will ultimately lead to a better response from the language model.\n",
      "\n",
      "<< FORMATTING >>\n",
      "Return a markdown code snippet with a JSON object formatted to look like:\n",
      "```json\n",
      "{{{{\n",
      "    \"destination\": string \\ name of the prompt to use or \"DEFAULT\"\n",
      "    \"next_inputs\": string \\ a potentially modified version of the original input\n",
      "}}}}\n",
      "```\n",
      "\n",
      "REMEMBER: \"destination\" MUST be one of the candidate prompt names specified below OR it can be \"DEFAULT\" if the input is not well suited for any of the candidate prompts.\n",
      "REMEMBER: \"next_inputs\" can just be the original input if you don't think any modifications are needed.\n",
      "\n",
      "<< CANDIDATE PROMPTS >>\n",
      "{destinations}\n",
      "\n",
      "<< INPUT >>\n",
      "{{input}}\n",
      "\n",
      "<< OUTPUT (must include ```json at the start of the response) >>\n",
      "<< OUTPUT (must end with ```) >>\n",
      "\n"
     ]
    }
   ],
   "source": [
    "print(MULTI_PROMPT_ROUTER_TEMPLATE)"
   ]
  },
  {
   "cell_type": "code",
   "execution_count": 68,
   "id": "f882244c-1fa6-4d74-a44c-578c9fb25e18",
   "metadata": {},
   "outputs": [
    {
     "name": "stdout",
     "output_type": "stream",
     "text": [
      "Given a raw text input to a language model select the model prompt best suited for the input. You will be given the names of the available prompts and a description of what the prompt is best suited for. You may also revise the original input if you think that revising it will ultimately lead to a better response from the language model.\n",
      "\n",
      "<< FORMATTING >>\n",
      "Return a markdown code snippet with a JSON object formatted to look like:\n",
      "```json\n",
      "{{\n",
      "    \"destination\": string \\ name of the prompt to use or \"DEFAULT\"\n",
      "    \"next_inputs\": string \\ a potentially modified version of the original input\n",
      "}}\n",
      "```\n",
      "\n",
      "REMEMBER: \"destination\" MUST be one of the candidate prompt names specified below OR it can be \"DEFAULT\" if the input is not well suited for any of the candidate prompts.\n",
      "REMEMBER: \"next_inputs\" can just be the original input if you don't think any modifications are needed.\n",
      "\n",
      "<< CANDIDATE PROMPTS >>\n",
      "物理: 适用于回答物理问题\n",
      "数学: 适用于回答数学问题\n",
      "生物: 适用于回答生物学问题\n",
      "计算机: 适用于回答计算机科学问题\n",
      "汉语言文学: 适用于回答汉语言文学问题\n",
      "\n",
      "<< INPUT >>\n",
      "{input}\n",
      "\n",
      "<< OUTPUT (must include ```json at the start of the response) >>\n",
      "<< OUTPUT (must end with ```) >>\n",
      "\n"
     ]
    }
   ],
   "source": [
    "print(router_template)"
   ]
  },
  {
   "cell_type": "code",
   "execution_count": 69,
   "id": "c2a482e4-5757-4295-a3d8-c3fdd1d4abd2",
   "metadata": {},
   "outputs": [],
   "source": [
    "# 创建MultiPromptChain对象，其中包含了路由链，目标链和默认链。\n",
    "chain = MultiPromptChain(\n",
    "    router_chain=router_chain,\n",
    "    destination_chains=destination_chains,\n",
    "    default_chain=default_chain,\n",
    "    verbose=True,\n",
    ")"
   ]
  },
  {
   "cell_type": "code",
   "execution_count": 70,
   "id": "128bb7a0-b176-4b14-835e-8aaa723ab441",
   "metadata": {},
   "outputs": [
    {
     "name": "stdout",
     "output_type": "stream",
     "text": [
      "\n",
      "\n",
      "\u001b[1m> Entering new MultiPromptChain chain...\u001b[0m\n",
      "物理: {'input': '黑体辐射是什么？'}\n",
      "\u001b[1m> Finished chain.\u001b[0m\n",
      "{'input': '黑体辐射是什么？', 'text': '\\n\\n黑体辐射是指一个处于热平衡状态的理想物体，它会发出电磁辐射，其强度和频率分布与温度有关。根据普朗克定律和斯特藩-玻尔兹曼定律，黑体辐射的强度和频率分布可以被精确计算。黑体辐射在物理学中具有重要的意义，它可以用来解释许多自然现象，例如太阳的光谱分布和宇宙微波背景辐射。'}\n"
     ]
    }
   ],
   "source": [
    "print(chain.invoke(\"黑体辐射是什么？?\"))"
   ]
  },
  {
   "cell_type": "code",
   "execution_count": 71,
   "id": "cd869807-9cec-4bb2-9104-ecc4efce9baa",
   "metadata": {},
   "outputs": [
    {
     "name": "stdout",
     "output_type": "stream",
     "text": [
      "\n",
      "\n",
      "\u001b[1m> Entering new MultiPromptChain chain...\u001b[0m\n",
      "数学: {'input': '大于40的第一个质数是多少，使得这个质数加一能被3整除？'}\n",
      "\u001b[1m> Finished chain.\u001b[0m\n",
      "{'input': '大于40的第一个质数是多少，使得这个质数加一能被3整除？', 'text': '\\n\\n首先，我们需要找出大于40的第一个质数。一个简单的方法是从41开始，依次判断每个数是否是质数。通过这种方法，我们可以得知大于40的第一个质数是41。\\n\\n接着，我们需要找出41+1=42能被3整除的数。一个简单的方法是通过试除法，依次除以3，直到余数为0为止。通过这种方法，我们可以得知42除以3得到的余数为0，因此41+1=42能被3整除。\\n\\n因此，大于40的第一个质数是41，使得这个质数加一能被3整除。'}\n"
     ]
    }
   ],
   "source": [
    "print(\n",
    "    chain.invoke(\n",
    "        \"大于40的第一个质数是多少，使得这个质数加一能被3整除？\"\n",
    "    )\n",
    ")"
   ]
  },
  {
   "cell_type": "code",
   "execution_count": 17,
   "id": "7ad5dcb2-48c0-4d0f-b6cc-09ebcbdce75e",
   "metadata": {},
   "outputs": [],
   "source": [
    "router_chain.verbose = True"
   ]
  },
  {
   "cell_type": "code",
   "execution_count": 72,
   "id": "bd37e004-bb24-4929-992c-34407593d86e",
   "metadata": {},
   "outputs": [
    {
     "name": "stdout",
     "output_type": "stream",
     "text": [
      "\n",
      "\n",
      "\u001b[1m> Entering new MultiPromptChain chain...\u001b[0m\n",
      "物理: {'input': '什么是黑洞？'}\n",
      "\u001b[1m> Finished chain.\u001b[0m\n",
      "{'input': '什么是黑洞？', 'text': '\\n\\n黑洞是一种非常密集的天体，它的引力非常强大，以至于连光也无法逃逸。它的存在可以通过观测它造成的物质运动和辐射来推断，因为我们无法直接看到它。在宇宙中，黑洞通常是由大质量恒星坍缩而成的，它们的引力场非常强大，甚至可以吸引和撕裂附近的物质。黑洞是宇宙中最神秘和最奇特的天体之一，也是物理学研究的重要课题。'}\n"
     ]
    }
   ],
   "source": [
    "print(chain.invoke(\"黑洞是什么？\"))"
   ]
  },
  {
   "cell_type": "code",
   "execution_count": null,
   "id": "a51119ed-025f-48d7-ad81-cd9cdab7090f",
   "metadata": {},
   "outputs": [],
   "source": []
  },
  {
   "cell_type": "code",
   "execution_count": null,
   "id": "cbda2930-a0e6-48b2-8e02-4c3d792f0225",
   "metadata": {},
   "outputs": [],
   "source": []
  },
  {
   "cell_type": "code",
   "execution_count": null,
   "id": "24d11e0f-d5ee-4086-9e1a-b21000232134",
   "metadata": {},
   "outputs": [],
   "source": []
  },
  {
   "cell_type": "markdown",
   "id": "8b6836f0-213d-4cac-abc9-3617831be3db",
   "metadata": {},
   "source": [
    "### Homework\n",
    "\n",
    "#### 扩展 Demo：实现生物、计算机和汉语言文学老师 PromptTemplates 及对应 Chains"
   ]
  },
  {
   "cell_type": "code",
   "execution_count": 73,
   "id": "8b10841f-7141-445a-b22f-febde7fcacf1",
   "metadata": {},
   "outputs": [
    {
     "name": "stdout",
     "output_type": "stream",
     "text": [
      "\n",
      "\n",
      "\u001b[1m> Entering new MultiPromptChain chain...\u001b[0m\n",
      "None: {'input': 'covid是什么？?'}\n",
      "\u001b[1m> Finished chain.\u001b[0m\n",
      "{'input': 'covid是什么？?', 'history': '', 'text': ' COVID是一种传染病，也被称为新冠病毒。它最早于2019年在中国武汉被发现，随后迅速蔓延到全世界。这种病毒主要通过呼吸道飞沫传播，患者可能会出现发热、咳嗽、乏力等症状。目前，全世界都在努力抗击这种疾病，包括研发疫苗和采取措施控制传播。'}\n"
     ]
    }
   ],
   "source": [
    "print(chain.invoke(\"covid是什么？?\"))"
   ]
  },
  {
   "cell_type": "code",
   "execution_count": 75,
   "id": "b8fe90f7-0300-4937-ba98-0b033b3dfd5d",
   "metadata": {},
   "outputs": [
    {
     "name": "stdout",
     "output_type": "stream",
     "text": [
      "\n",
      "\n",
      "\u001b[1m> Entering new MultiPromptChain chain...\u001b[0m\n",
      "计算机: {'input': '可以介绍下计算机网络的应用场景吗？'}\n",
      "\u001b[1m> Finished chain.\u001b[0m\n",
      "{'input': '可以介绍下计算机网络的应用场景吗？', 'text': '\\n\\n计算机网络的应用场景非常广泛，可以说几乎涵盖了现代社会生活的方方面面。以下列举几个典型的应用场景：\\n\\n1. 互联网：互联网是计算机网络技术最广泛的应用，它连接了全世界的计算机和终端设备，使人们可以通过浏览器、手机等终端设备在网络上进行信息交流、资源共享、网上购物等各种活动。\\n\\n2. 移动通信网络：移动通信网络是一种无线网络，它使得人们可以通过手机、平板电脑等移动终端设备进行语音通话、短信、视频通话、移动支付等各种服务。\\n\\n3. 企业内部网络：企业内部网络是指连接企业内部各种计算机和设备的局域网，它可以实现企业内'}\n"
     ]
    }
   ],
   "source": [
    "print(\n",
    "    chain.invoke(\n",
    "        \"可以介绍下计算机网络的应用场景吗？\"\n",
    "    )\n",
    ")"
   ]
  },
  {
   "cell_type": "code",
   "execution_count": 77,
   "id": "09ebddaa-cc3b-42c0-bf2d-5a16568c742a",
   "metadata": {},
   "outputs": [
    {
     "name": "stdout",
     "output_type": "stream",
     "text": [
      "\n",
      "\n",
      "\u001b[1m> Entering new MultiPromptChain chain...\u001b[0m\n",
      "汉语言文学: {'input': '请介绍一下《红楼梦》的创作背景'}\n",
      "\u001b[1m> Finished chain.\u001b[0m\n",
      "{'input': '请介绍一下《红楼梦》的创作背景', 'text': '和主要内容。\\n\\n《红楼梦》是中国古典文学四大名著之一，也被称为《石头记》。它由清代作家曹雪芹所著，共120回。曹雪芹在创作《红楼梦》时，受到了社会政治动荡和个人经历的影响。他曾在康熙皇帝的侄女四美公主家当过书童，也曾参与过史学编纂工作，因此对当时的政治和社会有着深刻的了解。\\n\\n《红楼梦》主要讲述了贾、史、王、薛四大家族之间的婚姻联姻和贾宝玉与林黛玉的爱情故事。整部作品以贾府为中心，通过对贾府内'}\n"
     ]
    }
   ],
   "source": [
    "print(chain.invoke(\"介绍下红楼梦的创作背景？\"))"
   ]
  }
 ],
 "metadata": {
  "kernelspec": {
   "display_name": "Python 3 (ipykernel)",
   "language": "python",
   "name": "python3"
  },
  "language_info": {
   "codemirror_mode": {
    "name": "ipython",
    "version": 3
   },
   "file_extension": ".py",
   "mimetype": "text/x-python",
   "name": "python",
   "nbconvert_exporter": "python",
   "pygments_lexer": "ipython3",
   "version": "3.12.4"
  }
 },
 "nbformat": 4,
 "nbformat_minor": 5
}
